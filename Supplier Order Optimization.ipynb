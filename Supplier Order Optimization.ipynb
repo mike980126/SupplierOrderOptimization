{
 "cells": [
  {
   "cell_type": "code",
   "execution_count": 1,
   "id": "13f15a58",
   "metadata": {},
   "outputs": [],
   "source": [
    "from pulp import LpProblem, LpVariable, LpMinimize, LpMaximize, LpStatus\n",
    "import numpy as np\n",
    "from scipy.optimize import minimize"
   ]
  },
  {
   "cell_type": "markdown",
   "id": "348ec4f6",
   "metadata": {},
   "source": [
    "# 規劃求解"
   ]
  },
  {
   "cell_type": "code",
   "execution_count": 2,
   "id": "24658842",
   "metadata": {},
   "outputs": [],
   "source": [
    "Mincost = LpProblem(\"總成本最小化\", LpMinimize)\n",
    "Maxcost = LpProblem(\"總成本最大化\", LpMaximize)\n",
    "Mindelay = LpProblem(\"延遲交貨率最小化\", LpMinimize)\n",
    "Maxdelay = LpProblem(\"延遲交貨率最大化\", LpMaximize)\n",
    "Minloss = LpProblem(\"不良率最小化\", LpMinimize)\n",
    "Maxloss = LpProblem(\"不良率最大化\", LpMaximize)\n",
    "Minperformance = LpProblem(\"總績效最小化\", LpMinimize)\n",
    "Maxperformance = LpProblem(\"總績效最大化\", LpMaximize)"
   ]
  },
  {
   "cell_type": "markdown",
   "id": "56b80289",
   "metadata": {},
   "source": [
    "# 變數設定"
   ]
  },
  {
   "cell_type": "code",
   "execution_count": 3,
   "id": "d660d673",
   "metadata": {},
   "outputs": [],
   "source": [
    "x11 = LpVariable('x11', lowBound=0)\n",
    "x21 = LpVariable('x21', lowBound=0)\n",
    "x12 = LpVariable('x12', lowBound=0)\n",
    "x22 = LpVariable('x22', lowBound=0)\n",
    "x13 = LpVariable('x13', lowBound=0)\n",
    "x23 = LpVariable('x23', lowBound=0)\n",
    "x14 = LpVariable('x14', lowBound=0)\n",
    "x24 = LpVariable('x24', lowBound=0)\n",
    "y11 = LpVariable('y11', lowBound=0, cat='Binary')\n",
    "y21 = LpVariable('y21', lowBound=0, cat='Binary')\n",
    "y12 = LpVariable('y12', lowBound=0, cat='Binary')\n",
    "y22 = LpVariable('y22', lowBound=0, cat='Binary')\n",
    "y13 = LpVariable('y13', lowBound=0, cat='Binary')\n",
    "y23 = LpVariable('y23', lowBound=0, cat='Binary')\n",
    "y14 = LpVariable('y14', lowBound=0, cat='Binary')\n",
    "y24 = LpVariable('y24', lowBound=0, cat='Binary')"
   ]
  },
  {
   "cell_type": "code",
   "execution_count": 4,
   "id": "af703a07",
   "metadata": {},
   "outputs": [],
   "source": [
    "cost_objective = (x11 * 28.5 + x21 * 26.5 + x12 * 30 + x22 * 27.5 + x13 * 32 + x23 * 28 + x14 * 28 + x24 * 26)\n",
    "Mincost += cost_objective\n",
    "Maxcost += cost_objective\n",
    "\n",
    "delay_objective = ((x11 + x21) * 0.022 + (x12 + x22) * 0.035 + (x13 + x23) * 0.025 + (x14 + x24) * 0.030)\n",
    "Mindelay += delay_objective\n",
    "Maxdelay += delay_objective\n",
    "\n",
    "loss_objective = ((x11 + x21) * 0.023 + (x12 + x22) * 0.020 + (x13 + x23) * 0.025 + (x14 + x24) * 0.018)\n",
    "Minloss += loss_objective\n",
    "Maxloss += loss_objective\n",
    "\n",
    "performance_objective = ((x11 + x21) * 0.514 + (x12 + x22) * 0.481 + (x13 + x23) * 0.473 + (x14 + x24) * 0.532)\n",
    "Minperformance += performance_objective\n",
    "Maxperformance += performance_objective"
   ]
  },
  {
   "cell_type": "markdown",
   "id": "71a41455",
   "metadata": {},
   "source": [
    "# 限制式"
   ]
  },
  {
   "cell_type": "code",
   "execution_count": 5,
   "id": "f2c1176d",
   "metadata": {},
   "outputs": [],
   "source": [
    "Mincost += ((x11 * 4 + x21 * 6) + (x12 * 6 + x22 * 7) + (x13 * 4 + x23 * 5) + (x14 * 5 + x24 * 6) >= 5 * (x11 + x21 + x12 + x22 + x13 + x23 + x14 + x24))\n",
    "Mincost += ((x11 * 4 + x21 * 6) + (x12 * 6 + x22 * 7) + (x13 * 4 + x23 * 5) + (x14 * 5 + x24 * 6) <= 7 * (x11 + x21 + x12 + x22 + x13 + x23 + x14 + x24))\n",
    "Mincost += ((x11 + x21 + x12 + x22 + x13 + x23 + x14 + x24) >= 25500)\n",
    "Mincost += ((x11 + x21 + x12 + x22 + x13 + x23 + x14 + x24) <= 27000)\n",
    "Mincost += (x11 + x21 <= 8500)\n",
    "Mincost += (x12 + x22 <= 9000)\n",
    "Mincost += (x13 + x23 <= 9500)\n",
    "Mincost += (x14 + x24 <= 10000)\n",
    "Mincost += (x11 <= 4999 * y11)\n",
    "Mincost += (5000 * y12 <= x21)\n",
    "Mincost += (x21 <= 8500 * y21)\n",
    "Mincost += (y11 + y21 <= 1)\n",
    "Mincost += (x12 <= 5499 * y12)\n",
    "Mincost += (5500 * y22 <= x22)\n",
    "Mincost += (x22 <= 9000 * y22)\n",
    "Mincost += (y12 + y22 <= 1)\n",
    "Mincost += (x13 <= 5799 * y13)\n",
    "Mincost += (5800 * y23 <= x23)\n",
    "Mincost += (x23 <= 9500 * y23)\n",
    "Mincost += (y13 + y23 <= 1)\n",
    "Mincost += (x14 <= 6499 * y14)\n",
    "Mincost += (6500 * y24 <= x24)\n",
    "Mincost += (x24 <= 10000 * y24)\n",
    "Mincost += (y14 + y24 <= 1)\n",
    "#---------------------------------------------------------------------------------------------------------\n",
    "Maxcost += ((x11 * 4 + x21 * 6) + (x12 * 6 + x22 * 7) + (x13 * 4 + x23 * 5) + (x14 * 5 + x24 * 6) >= 5 * (x11 + x21 + x12 + x22 + x13 + x23 + x14 + x24))\n",
    "Maxcost += ((x11 * 4 + x21 * 6) + (x12 * 6 + x22 * 7) + (x13 * 4 + x23 * 5) + (x14 * 5 + x24 * 6) <= 7 * (x11 + x21 + x12 + x22 + x13 + x23 + x14 + x24))\n",
    "Maxcost += ((x11 + x21 + x12 + x22 + x13 + x23 + x14 + x24) >= 25500)\n",
    "Maxcost += ((x11 + x21 + x12 + x22 + x13 + x23 + x14 + x24) <= 27000)\n",
    "Maxcost += (x11 + x21 <= 8500)\n",
    "Maxcost += (x12 + x22 <= 9000)\n",
    "Maxcost += (x13 + x23 <= 9500)\n",
    "Maxcost += (x14 + x24 <= 10000)\n",
    "Maxcost += (x11 <= 4999 * y11)\n",
    "Maxcost += (5000 * y12 <= x21)\n",
    "Maxcost += (x21 <= 8500 * y21)\n",
    "Maxcost += (y11 + y21 <= 1)\n",
    "Maxcost += (x12 <= 5499 * y12)\n",
    "Maxcost += (5500 * y22 <= x22)\n",
    "Maxcost += (x22 <= 9000 * y22)\n",
    "Maxcost += (y12 + y22 <= 1)\n",
    "Maxcost += (x13 <= 5799 * y13)\n",
    "Maxcost += (5800 * y23 <= x23)\n",
    "Maxcost += (x23 <= 9500 * y23)\n",
    "Maxcost += (y13 + y23 <= 1)\n",
    "Maxcost += (x14 <= 6499 * y14)\n",
    "Maxcost += (6500 * y24 <= x24)\n",
    "Maxcost += (x24 <= 10000 * y24)\n",
    "Maxcost += (y14 + y24 <= 1)"
   ]
  },
  {
   "cell_type": "code",
   "execution_count": 6,
   "id": "8fbda193",
   "metadata": {},
   "outputs": [],
   "source": [
    "Mindelay += ((x11 * 4 + x21 * 6) + (x12 * 6 + x22 * 7) + (x13 * 4 + x23 * 5) + (x14 * 5 + x24 * 6) >= 5 * (x11 + x21 + x12 + x22 + x13 + x23 + x14 + x24))\n",
    "Mindelay += ((x11 * 4 + x21 * 6) + (x12 * 6 + x22 * 7) + (x13 * 4 + x23 * 5) + (x14 * 5 + x24 * 6) <= 7 * (x11 + x21 + x12 + x22 + x13 + x23 + x14 + x24))\n",
    "Mindelay += ((x11 + x21 + x12 + x22 + x13 + x23 + x14 + x24) >= 25500)\n",
    "Mindelay += ((x11 + x21 + x12 + x22 + x13 + x23 + x14 + x24) <= 27000)\n",
    "Mindelay += (x11 + x21 <= 8500)\n",
    "Mindelay += (x12 + x22 <= 9000)\n",
    "Mindelay += (x13 + x23 <= 9500)\n",
    "Mindelay += (x14 + x24 <= 10000)\n",
    "Mindelay += (x11 <= 4999 * y11)\n",
    "Mindelay += (5000 * y12 <= x21)\n",
    "Mindelay += (x21 <= 8500 * y21)\n",
    "Mindelay += (y11 + y21 <= 1)\n",
    "Mindelay += (x12 <= 5499 * y12)\n",
    "Mindelay += (5500 * y22 <= x22)\n",
    "Mindelay += (x22 <= 9000 * y22)\n",
    "Mindelay += (y12 + y22 <= 1)\n",
    "Mindelay += (x13 <= 5799 * y13)\n",
    "Mindelay += (5800 * y23 <= x23)\n",
    "Mindelay += (x23 <= 9500 * y23)\n",
    "Mindelay += (y13 + y23 <= 1)\n",
    "Mindelay += (x14 <= 6499 * y14)\n",
    "Mindelay += (6500 * y24 <= x24)\n",
    "Mindelay += (x24 <= 10000 * y24)\n",
    "Mindelay += (y14 + y24 <= 1)\n",
    "#---------------------------------------------------------------------------------------------------------\n",
    "Maxdelay += ((x11 * 4 + x21 * 6) + (x12 * 6 + x22 * 7) + (x13 * 4 + x23 * 5) + (x14 * 5 + x24 * 6) >= 5 * (x11 + x21 + x12 + x22 + x13 + x23 + x14 + x24))\n",
    "Maxdelay += ((x11 * 4 + x21 * 6) + (x12 * 6 + x22 * 7) + (x13 * 4 + x23 * 5) + (x14 * 5 + x24 * 6) <= 7 * (x11 + x21 + x12 + x22 + x13 + x23 + x14 + x24))\n",
    "Maxdelay += ((x11 + x21 + x12 + x22 + x13 + x23 + x14 + x24) >= 25500)\n",
    "Maxdelay += ((x11 + x21 + x12 + x22 + x13 + x23 + x14 + x24) <= 27000)\n",
    "Maxdelay += (x11 + x21 <= 8500)\n",
    "Maxdelay += (x12 + x22 <= 9000)\n",
    "Maxdelay += (x13 + x23 <= 9500)\n",
    "Maxdelay += (x14 + x24 <= 10000)\n",
    "Maxdelay += (x11 <= 4999 * y11)\n",
    "Maxdelay += (5000 * y12 <= x21)\n",
    "Maxdelay += (x21 <= 8500 * y21)\n",
    "Maxdelay += (y11 + y21 <= 1)\n",
    "Maxdelay += (x12 <= 5499 * y12)\n",
    "Maxdelay += (5500 * y22 <= x22)\n",
    "Maxdelay += (x22 <= 9000 * y22)\n",
    "Maxdelay += (y12 + y22 <= 1)\n",
    "Maxdelay += (x13 <= 5799 * y13)\n",
    "Maxdelay += (5800 * y23 <= x23)\n",
    "Maxdelay += (x23 <= 9500 * y23)\n",
    "Maxdelay += (y13 + y23 <= 1)\n",
    "Maxdelay += (x14 <= 6499 * y14)\n",
    "Maxdelay += (6500 * y24 <= x24)\n",
    "Maxdelay += (x24 <= 10000 * y24)\n",
    "Maxdelay += (y14 + y24 <= 1)"
   ]
  },
  {
   "cell_type": "code",
   "execution_count": 7,
   "id": "de6b21c5",
   "metadata": {},
   "outputs": [],
   "source": [
    "Minloss += ((x11 * 4 + x21 * 6) + (x12 * 6 + x22 * 7) + (x13 * 4 + x23 * 5) + (x14 * 5 + x24 * 6) >= 5 * (x11 + x21 + x12 + x22 + x13 + x23 + x14 + x24))\n",
    "Minloss += ((x11 * 4 + x21 * 6) + (x12 * 6 + x22 * 7) + (x13 * 4 + x23 * 5) + (x14 * 5 + x24 * 6) <= 7 * (x11 + x21 + x12 + x22 + x13 + x23 + x14 + x24))\n",
    "Minloss += ((x11 + x21 + x12 + x22 + x13 + x23 + x14 + x24) >= 25500)\n",
    "Minloss += ((x11 + x21 + x12 + x22 + x13 + x23 + x14 + x24) <= 27000)\n",
    "Minloss += (x11 + x21 <= 8500)\n",
    "Minloss += (x12 + x22 <= 9000)\n",
    "Minloss += (x13 + x23 <= 9500)\n",
    "Minloss += (x14 + x24 <= 10000)\n",
    "Minloss += (x11 <= 4999 * y11)\n",
    "Minloss += (5000 * y12 <= x21)\n",
    "Minloss += (x21 <= 8500 * y21)\n",
    "Minloss += (y11 + y21 <= 1)\n",
    "Minloss += (x12 <= 5499 * y12)\n",
    "Minloss += (5500 * y22 <= x22)\n",
    "Minloss += (x22 <= 9000 * y22)\n",
    "Minloss += (y12 + y22 <= 1)\n",
    "Minloss += (x13 <= 5799 * y13)\n",
    "Minloss += (5800 * y23 <= x23)\n",
    "Minloss += (x23 <= 9500 * y23)\n",
    "Minloss += (y13 + y23 <= 1)\n",
    "Minloss += (x14 <= 6499 * y14)\n",
    "Minloss += (6500 * y24 <= x24)\n",
    "Minloss += (x24 <= 10000 * y24)\n",
    "Minloss += (y14 + y24 <= 1)\n",
    "#---------------------------------------------------------------------------------------------------------\n",
    "Maxloss += ((x11 * 4 + x21 * 6) + (x12 * 6 + x22 * 7) + (x13 * 4 + x23 * 5) + (x14 * 5 + x24 * 6) >= 5 * (x11 + x21 + x12 + x22 + x13 + x23 + x14 + x24))\n",
    "Maxloss += ((x11 * 4 + x21 * 6) + (x12 * 6 + x22 * 7) + (x13 * 4 + x23 * 5) + (x14 * 5 + x24 * 6) <= 7 * (x11 + x21 + x12 + x22 + x13 + x23 + x14 + x24))\n",
    "Maxloss += ((x11 + x21 + x12 + x22 + x13 + x23 + x14 + x24) >= 25500)\n",
    "Maxloss += ((x11 + x21 + x12 + x22 + x13 + x23 + x14 + x24) <= 27000)\n",
    "Maxloss += (x11 + x21 <= 8500)\n",
    "Maxloss += (x12 + x22 <= 9000)\n",
    "Maxloss += (x13 + x23 <= 9500)\n",
    "Maxloss += (x14 + x24 <= 10000)\n",
    "Maxloss += (x11 <= 4999 * y11)\n",
    "Maxloss += (5000 * y12 <= x21)\n",
    "Maxloss += (x21 <= 8500 * y21)\n",
    "Maxloss += (y11 + y21 <= 1)\n",
    "Maxloss += (x12 <= 5499 * y12)\n",
    "Maxloss += (5500 * y22 <= x22)\n",
    "Maxloss += (x22 <= 9000 * y22)\n",
    "Maxloss += (y12 + y22 <= 1)\n",
    "Maxloss += (x13 <= 5799 * y13)\n",
    "Maxloss += (5800 * y23 <= x23)\n",
    "Maxloss += (x23 <= 9500 * y23)\n",
    "Maxloss += (y13 + y23 <= 1)\n",
    "Maxloss += (x14 <= 6499 * y14)\n",
    "Maxloss += (6500 * y24 <= x24)\n",
    "Maxloss += (x24 <= 10000 * y24)\n",
    "Maxloss += (y14 + y24 <= 1)"
   ]
  },
  {
   "cell_type": "code",
   "execution_count": 8,
   "id": "63c2e5cc",
   "metadata": {},
   "outputs": [],
   "source": [
    "Minperformance += ((x11 * 4 + x21 * 6) + (x12 * 6 + x22 * 7) + (x13 * 4 + x23 * 5) + (x14 * 5 + x24 * 6) >= 5 * (x11 + x21 + x12 + x22 + x13 + x23 + x14 + x24))\n",
    "Minperformance += ((x11 * 4 + x21 * 6) + (x12 * 6 + x22 * 7) + (x13 * 4 + x23 * 5) + (x14 * 5 + x24 * 6) <= 7 * (x11 + x21 + x12 + x22 + x13 + x23 + x14 + x24))\n",
    "Minperformance += ((x11 + x21 + x12 + x22 + x13 + x23 + x14 + x24) >= 25500)\n",
    "Minperformance += ((x11 + x21 + x12 + x22 + x13 + x23 + x14 + x24) <= 27000)\n",
    "Minperformance += (x11 + x21 <= 8500)\n",
    "Minperformance += (x12 + x22 <= 9000)\n",
    "Minperformance += (x13 + x23 <= 9500)\n",
    "Minperformance += (x14 + x24 <= 10000)\n",
    "Minperformance += (x11 <= 4999 * y11)\n",
    "Minperformance += (5000 * y12 <= x21)\n",
    "Minperformance += (x21 <= 8500 * y21)\n",
    "Minperformance += (y11 + y21 <= 1)\n",
    "Minperformance += (x12 <= 5499 * y12)\n",
    "Minperformance += (5500 * y22 <= x22)\n",
    "Minperformance += (x22 <= 9000 * y22)\n",
    "Minperformance += (y12 + y22 <= 1)\n",
    "Minperformance += (x13 <= 5799 * y13)\n",
    "Minperformance += (5800 * y23 <= x23)\n",
    "Minperformance += (x23 <= 9500 * y23)\n",
    "Minperformance += (y13 + y23 <= 1)\n",
    "Minperformance += (x14 <= 6499 * y14)\n",
    "Minperformance += (6500 * y24 <= x24)\n",
    "Minperformance += (x24 <= 10000 * y24)\n",
    "Minperformance += (y14 + y24 <= 1)\n",
    "#---------------------------------------------------------------------------------------------------------\n",
    "Maxperformance += ((x11 * 4 + x21 * 6) + (x12 * 6 + x22 * 7) + (x13 * 4 + x23 * 5) + (x14 * 5 + x24 * 6) >= 5 * (x11 + x21 + x12 + x22 + x13 + x23 + x14 + x24))\n",
    "Maxperformance += ((x11 * 4 + x21 * 6) + (x12 * 6 + x22 * 7) + (x13 * 4 + x23 * 5) + (x14 * 5 + x24 * 6) <= 7 * (x11 + x21 + x12 + x22 + x13 + x23 + x14 + x24))\n",
    "Maxperformance += ((x11 + x21 + x12 + x22 + x13 + x23 + x14 + x24) >= 25500)\n",
    "Maxperformance += ((x11 + x21 + x12 + x22 + x13 + x23 + x14 + x24) <= 27000)\n",
    "Maxperformance += (x11 + x21 <= 8500)\n",
    "Maxperformance += (x12 + x22 <= 9000)\n",
    "Maxperformance += (x13 + x23 <= 9500)\n",
    "Maxperformance += (x14 + x24 <= 10000)\n",
    "Maxperformance += (x11 <= 4999 * y11)\n",
    "Maxperformance += (5000 * y12 <= x21)\n",
    "Maxperformance += (x21 <= 8500 * y21)\n",
    "Maxperformance += (y11 + y21 <= 1)\n",
    "Maxperformance += (x12 <= 5499 * y12)\n",
    "Maxperformance += (5500 * y22 <= x22)\n",
    "Maxperformance += (x22 <= 9000 * y22)\n",
    "Maxperformance += (y12 + y22 <= 1)\n",
    "Maxperformance += (x13 <= 5799 * y13)\n",
    "Maxperformance += (5800 * y23 <= x23)\n",
    "Maxperformance += (x23 <= 9500 * y23)\n",
    "Maxperformance += (y13 + y23 <= 1)\n",
    "Maxperformance += (x14 <= 6499 * y14)\n",
    "Maxperformance += (6500 * y24 <= x24)\n",
    "Maxperformance += (x24 <= 10000 * y24)\n",
    "Maxperformance += (y14 + y24 <= 1)"
   ]
  },
  {
   "cell_type": "code",
   "execution_count": 9,
   "id": "f6b921be",
   "metadata": {},
   "outputs": [],
   "source": [
    "cost = []\n",
    "delay = []\n",
    "loss = []\n",
    "performance = []"
   ]
  },
  {
   "cell_type": "code",
   "execution_count": 10,
   "id": "871aff24",
   "metadata": {},
   "outputs": [],
   "source": [
    "Mincost.solve()\n",
    "Mincost.objective.value()\n",
    "cost.append(Mincost.objective.value())"
   ]
  },
  {
   "cell_type": "code",
   "execution_count": 11,
   "id": "360076a5",
   "metadata": {},
   "outputs": [
    {
     "data": {
      "text/plain": [
       "[677750.0, 766143.0]"
      ]
     },
     "execution_count": 11,
     "metadata": {},
     "output_type": "execute_result"
    }
   ],
   "source": [
    "Maxcost.solve()\n",
    "Maxcost.objective.value()\n",
    "cost.append(Maxcost.objective.value())\n",
    "\n",
    "cost"
   ]
  },
  {
   "cell_type": "code",
   "execution_count": 12,
   "id": "168f5713",
   "metadata": {},
   "outputs": [],
   "source": [
    "Mindelay.solve()\n",
    "Mindelay.objective.value()\n",
    "delay.append(Mindelay.objective.value())"
   ]
  },
  {
   "cell_type": "code",
   "execution_count": 13,
   "id": "197d0117",
   "metadata": {},
   "outputs": [
    {
     "data": {
      "text/plain": [
       "[649.5, 815.0]"
      ]
     },
     "execution_count": 13,
     "metadata": {},
     "output_type": "execute_result"
    }
   ],
   "source": [
    "Maxdelay.solve()\n",
    "Maxdelay.objective.value()\n",
    "delay.append(Maxdelay.objective.value())\n",
    "\n",
    "delay"
   ]
  },
  {
   "cell_type": "code",
   "execution_count": 14,
   "id": "8f74ef14",
   "metadata": {},
   "outputs": [],
   "source": [
    "Minloss.solve()\n",
    "Minloss.objective.value()\n",
    "loss.append(Minloss.objective.value())"
   ]
  },
  {
   "cell_type": "code",
   "execution_count": 15,
   "id": "61d617f8",
   "metadata": {},
   "outputs": [
    {
     "data": {
      "text/plain": [
       "[509.5, 613.0]"
      ]
     },
     "execution_count": 15,
     "metadata": {},
     "output_type": "execute_result"
    }
   ],
   "source": [
    "Maxloss.solve()\n",
    "Maxloss.objective.value()\n",
    "loss.append(Maxloss.objective.value())\n",
    "\n",
    "loss"
   ]
  },
  {
   "cell_type": "code",
   "execution_count": 16,
   "id": "8507a0fd",
   "metadata": {},
   "outputs": [],
   "source": [
    "Minperformance.solve()\n",
    "Minperformance.objective.value()\n",
    "performance.append(Minperformance.objective.value())"
   ]
  },
  {
   "cell_type": "code",
   "execution_count": 17,
   "id": "ae387637",
   "metadata": {},
   "outputs": [
    {
     "data": {
      "text/plain": [
       "[12420.5, 13777.5]"
      ]
     },
     "execution_count": 17,
     "metadata": {},
     "output_type": "execute_result"
    }
   ],
   "source": [
    "Maxperformance.solve()\n",
    "Maxperformance.objective.value()\n",
    "performance.append(Maxperformance.objective.value())\n",
    "\n",
    "performance"
   ]
  },
  {
   "cell_type": "code",
   "execution_count": 18,
   "id": "7da9f5cf",
   "metadata": {},
   "outputs": [],
   "source": [
    "Optimal = LpProblem(\"最佳解\", LpMaximize)"
   ]
  },
  {
   "cell_type": "code",
   "execution_count": 19,
   "id": "77ca5e6c",
   "metadata": {},
   "outputs": [],
   "source": [
    "x11 = LpVariable('x11', lowBound=0, cat='Integer')\n",
    "x21 = LpVariable('x21', lowBound=0, cat='Integer')\n",
    "x12 = LpVariable('x12', lowBound=0, cat='Integer')\n",
    "x22 = LpVariable('x22', lowBound=0, cat='Integer')\n",
    "x13 = LpVariable('x13', lowBound=0, cat='Integer')\n",
    "x23 = LpVariable('x23', lowBound=0, cat='Integer')\n",
    "x14 = LpVariable('x14', lowBound=0, cat='Integer')\n",
    "x24 = LpVariable('x24', lowBound=0, cat='Integer')\n",
    "y11 = LpVariable('y11', lowBound=0, cat='Binary')\n",
    "y21 = LpVariable('y21', lowBound=0, cat='Binary')\n",
    "y12 = LpVariable('y12', lowBound=0, cat='Binary')\n",
    "y22 = LpVariable('y22', lowBound=0, cat='Binary')\n",
    "y13 = LpVariable('y13', lowBound=0, cat='Binary')\n",
    "y23 = LpVariable('y23', lowBound=0, cat='Binary')\n",
    "y14 = LpVariable('y14', lowBound=0, cat='Binary')\n",
    "y24 = LpVariable('y24', lowBound=0, cat='Binary')\n",
    "z = LpVariable('z', lowBound=0)\n",
    "z1 = LpVariable('z1', lowBound=0)\n",
    "z2 = LpVariable('z2', lowBound=0)\n",
    "z3 = LpVariable('z3', lowBound=0)\n",
    "z4 = LpVariable('z4', lowBound=0)\n",
    "z5 = LpVariable('z5', lowBound=0)\n",
    "z6 = LpVariable('z6', lowBound=0)\n",
    "f1 = LpVariable('f1', lowBound=0)\n",
    "f2 = LpVariable('f2', lowBound=0)\n",
    "f3 = LpVariable('f3', lowBound=0)\n",
    "f4 = LpVariable('f4', lowBound=0)\n",
    "f5 = LpVariable('f5', lowBound=0)\n",
    "f6 = LpVariable('f6', lowBound=0)\n",
    "y = LpVariable('y')\n",
    "x = LpVariable('x')"
   ]
  },
  {
   "cell_type": "code",
   "execution_count": 20,
   "id": "0fdd4460",
   "metadata": {},
   "outputs": [],
   "source": [
    "optimal_objective = (z + (z1 + z2 + z3 + z4 + z5 + z6) / 6)\n",
    "Optimal += optimal_objective"
   ]
  },
  {
   "cell_type": "code",
   "execution_count": 21,
   "id": "74dcd30c",
   "metadata": {},
   "outputs": [],
   "source": [
    "f1 = (x11 * 28.5 + x21 * 26.5 + x12 * 30 + x22 * 27.5 + x13 * 32 + x23 * 28 + x14 * 28 + x24 * 26)\n",
    "f2 = ((x11 + x21) * 0.022 + (x12 + x22) * 0.035 + (x13 + x23) * 0.025 + (x14 + x24) * 0.03)\n",
    "f3 = ((x11 + x21) * 0.023 + (x12 + x22) * 0.02 + (x13 + x23) * 0.025 + (x14 + x24) * 0.018)\n",
    "f4 = ((x11 + x21) * 0.514 + (x12 + x22) * 0.481 + (x13 + x23) * 0.473 + (x14 + x24) * 0.532)\n",
    "f5 = (x11 * 4 + x21 * 6 + x12 * 6 + x22 * 7 + x13 * 4 + x23 * 5 + x14 * 5 + x24 * 6)\n",
    "f6 = (x11 + x21 + x12 + x22 + x13 + x23 + x14 + x24)\n",
    "\n",
    "# Optimal += (z1 <= ((f1 - cost[1]) / (cost[0] - cost[1])))\n",
    "# Optimal += (z2 <= ((f2 - delay[1]) / (delay[0] - delay[1])))\n",
    "# Optimal += (z3 <= ((f3 - loss[1]) / (loss[0] - loss[1])))\n",
    "# Optimal += (z4 <= ((f4 - performance[0]) / (performance[1] -  performance[0])))\n",
    "\n",
    "Optimal += (z1 <= ((f1 - 766143) / (677750 - 766143)))\n",
    "Optimal += (z2 <= ((f2 - 815) / (649.5 - 815)))\n",
    "Optimal += (z3 <= ((f3 - 613) / (509.5 - 613)))\n",
    "Optimal += (z4 <= ((f4 - 12420.5) / (13777.5 - 12420.5)))\n",
    "\n",
    "Optimal += (z <= z1)\n",
    "Optimal += (z <= z2)\n",
    "Optimal += (z <= z3)\n",
    "Optimal += (z <= z4)\n",
    "Optimal += (z <= z5)\n",
    "Optimal += (z <= z6)\n",
    "\n",
    "Optimal += (f5 >= 5 * f6)\n",
    "Optimal += (f5 <= 7 * f6)\n",
    "Optimal += (f6 >= 25500)\n",
    "Optimal += (f6 <= 27000)\n",
    "Optimal += (x11 + x21 <= 8500)\n",
    "Optimal += (x12 + x22 <= 9000)\n",
    "Optimal += (x13 + x23 <= 9500)\n",
    "Optimal += (x14 + x24 <= 10000)\n",
    "Optimal += (x11 <= 4999 * y11)\n",
    "Optimal += (5000 * y12 <= x21)\n",
    "Optimal += (x21 <= 8500 * y21)\n",
    "Optimal += (y11 + y21 <= 1)\n",
    "Optimal += (x12 <= 5499 * y12)\n",
    "Optimal += (5500 * y22 <= x22)\n",
    "Optimal += (x22 <= 9000 * y22)\n",
    "Optimal += (y12 + y22 <= 1)\n",
    "Optimal += (x13 <= 5799 * y13)\n",
    "Optimal += (5800 * y23 <= x23)\n",
    "Optimal += (x23 <= 9500 * y23)\n",
    "Optimal += (y13 + y23 <= 1)\n",
    "Optimal += (x14 <= 6499 * y14)\n",
    "Optimal += (6500 * y24 <= x24)\n",
    "Optimal += (x24 <= 10000 * y24)\n",
    "Optimal += (y14 + y24 <= 1)\n",
    "\n",
    "Optimal += (z5 <= (5.776923 - 7) * (6 - 7))\n",
    "Optimal += (z5 <= (5.776923 - 5) * (6 - 5)) # (f5 / f6)用數值代替\n",
    "\n",
    "Optimal += (z6 <= (f6 - 25500) / (26000 - 25500))\n",
    "Optimal += (z6 <= (f6 - 27000) / (26000 - 27000))\n",
    "\n",
    "# Optimal += (z <= z5)\n",
    "# Optimal += (z <= z6)"
   ]
  },
  {
   "cell_type": "code",
   "execution_count": 22,
   "id": "34dfe786",
   "metadata": {},
   "outputs": [
    {
     "data": {
      "text/plain": [
       "1.3178081083333335"
      ]
     },
     "execution_count": 22,
     "metadata": {},
     "output_type": "execute_result"
    }
   ],
   "source": [
    "Optimal.solve()\n",
    "Optimal.objective.value()"
   ]
  },
  {
   "cell_type": "code",
   "execution_count": 23,
   "id": "bef81d74",
   "metadata": {},
   "outputs": [
    {
     "name": "stdout",
     "output_type": "stream",
     "text": [
      "x11 = 0.0\n",
      "x12 = 2565.0\n",
      "x13 = 0.0\n",
      "x14 = 0.0\n",
      "x21 = 7635.0\n",
      "x22 = 0.0\n",
      "x23 = 5800.0\n",
      "x24 = 10000.0\n",
      "y11 = 0.0\n",
      "y12 = 1.0\n",
      "y13 = 0.0\n",
      "y14 = 0.0\n",
      "y21 = 1.0\n",
      "y22 = 0.0\n",
      "y23 = 1.0\n",
      "y24 = 1.0\n",
      "z = 0.59028986\n",
      "z1 = 0.72930549\n",
      "z2 = 0.67827795\n",
      "z3 = 0.59028986\n",
      "z4 = 0.59031319\n",
      "z5 = 0.776923\n",
      "z6 = 1.0\n"
     ]
    }
   ],
   "source": [
    "for i in Optimal.variables():\n",
    "    print(i.name, \"=\", i.varValue)"
   ]
  },
  {
   "cell_type": "code",
   "execution_count": null,
   "id": "1b5b97b5",
   "metadata": {},
   "outputs": [],
   "source": []
  }
 ],
 "metadata": {
  "kernelspec": {
   "display_name": "Python 3 (ipykernel)",
   "language": "python",
   "name": "python3"
  },
  "language_info": {
   "codemirror_mode": {
    "name": "ipython",
    "version": 3
   },
   "file_extension": ".py",
   "mimetype": "text/x-python",
   "name": "python",
   "nbconvert_exporter": "python",
   "pygments_lexer": "ipython3",
   "version": "3.9.12"
  }
 },
 "nbformat": 4,
 "nbformat_minor": 5
}
